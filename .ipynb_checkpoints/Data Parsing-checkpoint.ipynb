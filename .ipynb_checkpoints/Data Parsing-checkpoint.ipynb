{
 "cells": [
  {
   "cell_type": "code",
   "execution_count": 119,
   "metadata": {},
   "outputs": [],
   "source": [
    "import matplotlib.pyplot as plt\n",
    "import sys\n",
    "import pandas as pd\n",
    "from numpy import genfromtxt\n",
    "import numpy as np\n",
    "from sklearn.cluster import DBSCAN\n",
    "from sklearn.linear_model import LinearRegression\n",
    "import math\n",
    "from datetime import datetime"
   ]
  },
  {
   "cell_type": "code",
   "execution_count": 120,
   "metadata": {},
   "outputs": [],
   "source": [
    "systoleFile = 'Systole BP Updated.xlsx'\n",
    "writerSys = pd.ExcelWriter(systoleFile, engine = 'openpyxl')\n",
    "diastoleFile = 'Diastole BP Updated.xlsx'\n",
    "writerDia = pd.ExcelWriter(diastoleFile, engine = 'openpyxl')"
   ]
  },
  {
   "cell_type": "code",
   "execution_count": 121,
   "metadata": {},
   "outputs": [],
   "source": [
    "systolicBP = pd.read_csv('Systolic BP.csv')\n",
    "diastolicBP = pd.read_csv('Diastolic BP.csv')"
   ]
  },
  {
   "cell_type": "code",
   "execution_count": 122,
   "metadata": {},
   "outputs": [],
   "source": [
    "systole = pd.DataFrame(systolicBP)\n",
    "diastole = pd.DataFrame(diastolicBP)"
   ]
  },
  {
   "cell_type": "code",
   "execution_count": 123,
   "metadata": {},
   "outputs": [
    {
     "data": {
      "text/html": [
       "<div>\n",
       "<style scoped>\n",
       "    .dataframe tbody tr th:only-of-type {\n",
       "        vertical-align: middle;\n",
       "    }\n",
       "\n",
       "    .dataframe tbody tr th {\n",
       "        vertical-align: top;\n",
       "    }\n",
       "\n",
       "    .dataframe thead th {\n",
       "        text-align: right;\n",
       "    }\n",
       "</style>\n",
       "<table border=\"1\" class=\"dataframe\">\n",
       "  <thead>\n",
       "    <tr style=\"text-align: right;\">\n",
       "      <th></th>\n",
       "      <th>Timestamp</th>\n",
       "      <th>Name</th>\n",
       "      <th>Systolic BP</th>\n",
       "      <th>Diastolic BP</th>\n",
       "      <th>Zung Score</th>\n",
       "    </tr>\n",
       "  </thead>\n",
       "  <tbody>\n",
       "    <tr>\n",
       "      <th>0</th>\n",
       "      <td>2022-04-11 17:47:57</td>\n",
       "      <td>Andrew</td>\n",
       "      <td>121</td>\n",
       "      <td>73</td>\n",
       "      <td>28</td>\n",
       "    </tr>\n",
       "    <tr>\n",
       "      <th>1</th>\n",
       "      <td>2022-04-12 12:43:28</td>\n",
       "      <td>Andrew</td>\n",
       "      <td>123</td>\n",
       "      <td>75</td>\n",
       "      <td>22</td>\n",
       "    </tr>\n",
       "    <tr>\n",
       "      <th>2</th>\n",
       "      <td>2022-04-12 13:54:32</td>\n",
       "      <td>Andrew</td>\n",
       "      <td>109</td>\n",
       "      <td>72</td>\n",
       "      <td>24</td>\n",
       "    </tr>\n",
       "    <tr>\n",
       "      <th>3</th>\n",
       "      <td>2022-04-13 09:25:09</td>\n",
       "      <td>Andrew</td>\n",
       "      <td>120</td>\n",
       "      <td>70</td>\n",
       "      <td>20</td>\n",
       "    </tr>\n",
       "    <tr>\n",
       "      <th>4</th>\n",
       "      <td>2022-04-13 21:27:08</td>\n",
       "      <td>Andrew</td>\n",
       "      <td>135</td>\n",
       "      <td>75</td>\n",
       "      <td>22</td>\n",
       "    </tr>\n",
       "    <tr>\n",
       "      <th>5</th>\n",
       "      <td>2022-04-14 08:45:32</td>\n",
       "      <td>Andrew</td>\n",
       "      <td>116</td>\n",
       "      <td>70</td>\n",
       "      <td>24</td>\n",
       "    </tr>\n",
       "    <tr>\n",
       "      <th>6</th>\n",
       "      <td>2022-04-11 16:46:58</td>\n",
       "      <td>Jacob</td>\n",
       "      <td>121</td>\n",
       "      <td>79</td>\n",
       "      <td>25</td>\n",
       "    </tr>\n",
       "    <tr>\n",
       "      <th>7</th>\n",
       "      <td>2022-04-11 22:51:18</td>\n",
       "      <td>Jacob</td>\n",
       "      <td>119</td>\n",
       "      <td>81</td>\n",
       "      <td>27</td>\n",
       "    </tr>\n",
       "    <tr>\n",
       "      <th>8</th>\n",
       "      <td>2022-04-12 12:43:23</td>\n",
       "      <td>Jacob</td>\n",
       "      <td>118</td>\n",
       "      <td>77</td>\n",
       "      <td>25</td>\n",
       "    </tr>\n",
       "    <tr>\n",
       "      <th>9</th>\n",
       "      <td>2022-04-12 20:19:36</td>\n",
       "      <td>Jacob</td>\n",
       "      <td>124</td>\n",
       "      <td>68</td>\n",
       "      <td>25</td>\n",
       "    </tr>\n",
       "    <tr>\n",
       "      <th>10</th>\n",
       "      <td>2022-04-13 21:45:51</td>\n",
       "      <td>Jacob</td>\n",
       "      <td>124</td>\n",
       "      <td>74</td>\n",
       "      <td>28</td>\n",
       "    </tr>\n",
       "    <tr>\n",
       "      <th>11</th>\n",
       "      <td>2022-04-14 12:40:34</td>\n",
       "      <td>Jacob</td>\n",
       "      <td>111</td>\n",
       "      <td>74</td>\n",
       "      <td>24</td>\n",
       "    </tr>\n",
       "    <tr>\n",
       "      <th>12</th>\n",
       "      <td>2022-04-12 12:47:09</td>\n",
       "      <td>Josh</td>\n",
       "      <td>118</td>\n",
       "      <td>74</td>\n",
       "      <td>26</td>\n",
       "    </tr>\n",
       "    <tr>\n",
       "      <th>13</th>\n",
       "      <td>2022-04-12 14:24:08</td>\n",
       "      <td>Josh</td>\n",
       "      <td>118</td>\n",
       "      <td>62</td>\n",
       "      <td>25</td>\n",
       "    </tr>\n",
       "    <tr>\n",
       "      <th>14</th>\n",
       "      <td>2022-04-13 23:36:41</td>\n",
       "      <td>Josh</td>\n",
       "      <td>121</td>\n",
       "      <td>81</td>\n",
       "      <td>30</td>\n",
       "    </tr>\n",
       "    <tr>\n",
       "      <th>15</th>\n",
       "      <td>2022-04-14 12:39:28</td>\n",
       "      <td>Josh</td>\n",
       "      <td>133</td>\n",
       "      <td>73</td>\n",
       "      <td>29</td>\n",
       "    </tr>\n",
       "    <tr>\n",
       "      <th>16</th>\n",
       "      <td>2022-04-12 12:42:32</td>\n",
       "      <td>Molly</td>\n",
       "      <td>111</td>\n",
       "      <td>67</td>\n",
       "      <td>35</td>\n",
       "    </tr>\n",
       "    <tr>\n",
       "      <th>17</th>\n",
       "      <td>2022-04-12 14:23:22</td>\n",
       "      <td>Molly</td>\n",
       "      <td>108</td>\n",
       "      <td>59</td>\n",
       "      <td>33</td>\n",
       "    </tr>\n",
       "    <tr>\n",
       "      <th>18</th>\n",
       "      <td>2022-04-13 20:52:39</td>\n",
       "      <td>Molly</td>\n",
       "      <td>130</td>\n",
       "      <td>87</td>\n",
       "      <td>38</td>\n",
       "    </tr>\n",
       "    <tr>\n",
       "      <th>19</th>\n",
       "      <td>2022-04-14 12:38:07</td>\n",
       "      <td>Molly</td>\n",
       "      <td>125</td>\n",
       "      <td>78</td>\n",
       "      <td>32</td>\n",
       "    </tr>\n",
       "    <tr>\n",
       "      <th>20</th>\n",
       "      <td>2022-04-14 14:03:53</td>\n",
       "      <td>Molly</td>\n",
       "      <td>114</td>\n",
       "      <td>76</td>\n",
       "      <td>36</td>\n",
       "    </tr>\n",
       "    <tr>\n",
       "      <th>21</th>\n",
       "      <td>2022-04-12 10:18:17</td>\n",
       "      <td>Nevin</td>\n",
       "      <td>112</td>\n",
       "      <td>70</td>\n",
       "      <td>27</td>\n",
       "    </tr>\n",
       "    <tr>\n",
       "      <th>22</th>\n",
       "      <td>2022-04-12 23:31:44</td>\n",
       "      <td>Nevin</td>\n",
       "      <td>120</td>\n",
       "      <td>64</td>\n",
       "      <td>22</td>\n",
       "    </tr>\n",
       "    <tr>\n",
       "      <th>23</th>\n",
       "      <td>2022-04-13 09:45:43</td>\n",
       "      <td>Nevin</td>\n",
       "      <td>113</td>\n",
       "      <td>63</td>\n",
       "      <td>20</td>\n",
       "    </tr>\n",
       "    <tr>\n",
       "      <th>24</th>\n",
       "      <td>2022-04-13 15:22:34</td>\n",
       "      <td>Nevin</td>\n",
       "      <td>120</td>\n",
       "      <td>72</td>\n",
       "      <td>27</td>\n",
       "    </tr>\n",
       "    <tr>\n",
       "      <th>25</th>\n",
       "      <td>2022-04-14 12:06:29</td>\n",
       "      <td>Nevin</td>\n",
       "      <td>121</td>\n",
       "      <td>75</td>\n",
       "      <td>28</td>\n",
       "    </tr>\n",
       "    <tr>\n",
       "      <th>26</th>\n",
       "      <td>2022-04-13 17:24:37</td>\n",
       "      <td>NaN</td>\n",
       "      <td>121</td>\n",
       "      <td>71</td>\n",
       "      <td>28</td>\n",
       "    </tr>\n",
       "  </tbody>\n",
       "</table>\n",
       "</div>"
      ],
      "text/plain": [
       "             Timestamp    Name  Systolic BP  Diastolic BP  Zung Score\n",
       "0  2022-04-11 17:47:57  Andrew          121            73          28\n",
       "1  2022-04-12 12:43:28  Andrew          123            75          22\n",
       "2  2022-04-12 13:54:32  Andrew          109            72          24\n",
       "3  2022-04-13 09:25:09  Andrew          120            70          20\n",
       "4  2022-04-13 21:27:08  Andrew          135            75          22\n",
       "5  2022-04-14 08:45:32  Andrew          116            70          24\n",
       "6  2022-04-11 16:46:58   Jacob          121            79          25\n",
       "7  2022-04-11 22:51:18   Jacob          119            81          27\n",
       "8  2022-04-12 12:43:23   Jacob          118            77          25\n",
       "9  2022-04-12 20:19:36   Jacob          124            68          25\n",
       "10 2022-04-13 21:45:51   Jacob          124            74          28\n",
       "11 2022-04-14 12:40:34   Jacob          111            74          24\n",
       "12 2022-04-12 12:47:09    Josh          118            74          26\n",
       "13 2022-04-12 14:24:08    Josh          118            62          25\n",
       "14 2022-04-13 23:36:41    Josh          121            81          30\n",
       "15 2022-04-14 12:39:28    Josh          133            73          29\n",
       "16 2022-04-12 12:42:32   Molly          111            67          35\n",
       "17 2022-04-12 14:23:22   Molly          108            59          33\n",
       "18 2022-04-13 20:52:39   Molly          130            87          38\n",
       "19 2022-04-14 12:38:07   Molly          125            78          32\n",
       "20 2022-04-14 14:03:53   Molly          114            76          36\n",
       "21 2022-04-12 10:18:17   Nevin          112            70          27\n",
       "22 2022-04-12 23:31:44   Nevin          120            64          22\n",
       "23 2022-04-13 09:45:43   Nevin          113            63          20\n",
       "24 2022-04-13 15:22:34   Nevin          120            72          27\n",
       "25 2022-04-14 12:06:29   Nevin          121            75          28\n",
       "26 2022-04-13 17:24:37     NaN          121            71          28"
      ]
     },
     "execution_count": 123,
     "metadata": {},
     "output_type": "execute_result"
    }
   ],
   "source": [
    "bpData = pd.read_excel('Test- BP Data Set.xlsx')\n",
    "data = pd.DataFrame(bpData)\n",
    "data['Zung Score'] = data['Zung Score'].astype(int)\n",
    "data['Systolic BP'] = data['Systolic BP'].astype(int)\n",
    "data['Diastolic BP'] = data['Diastolic BP'].astype(int)\n",
    "data"
   ]
  },
  {
   "cell_type": "code",
   "execution_count": 124,
   "metadata": {},
   "outputs": [],
   "source": [
    "systole = data[['Zung Score', 'Systolic BP']]\n",
    "diastole = data[['Zung Score', 'Diastolic BP']]"
   ]
  },
  {
   "cell_type": "code",
   "execution_count": 125,
   "metadata": {},
   "outputs": [
    {
     "data": {
      "text/html": [
       "<div>\n",
       "<style scoped>\n",
       "    .dataframe tbody tr th:only-of-type {\n",
       "        vertical-align: middle;\n",
       "    }\n",
       "\n",
       "    .dataframe tbody tr th {\n",
       "        vertical-align: top;\n",
       "    }\n",
       "\n",
       "    .dataframe thead th {\n",
       "        text-align: right;\n",
       "    }\n",
       "</style>\n",
       "<table border=\"1\" class=\"dataframe\">\n",
       "  <thead>\n",
       "    <tr style=\"text-align: right;\">\n",
       "      <th></th>\n",
       "      <th>Zung Score</th>\n",
       "      <th>Systolic BP</th>\n",
       "    </tr>\n",
       "  </thead>\n",
       "  <tbody>\n",
       "    <tr>\n",
       "      <th>0</th>\n",
       "      <td>28</td>\n",
       "      <td>121</td>\n",
       "    </tr>\n",
       "    <tr>\n",
       "      <th>1</th>\n",
       "      <td>22</td>\n",
       "      <td>123</td>\n",
       "    </tr>\n",
       "    <tr>\n",
       "      <th>2</th>\n",
       "      <td>24</td>\n",
       "      <td>109</td>\n",
       "    </tr>\n",
       "    <tr>\n",
       "      <th>3</th>\n",
       "      <td>20</td>\n",
       "      <td>120</td>\n",
       "    </tr>\n",
       "    <tr>\n",
       "      <th>4</th>\n",
       "      <td>22</td>\n",
       "      <td>135</td>\n",
       "    </tr>\n",
       "    <tr>\n",
       "      <th>5</th>\n",
       "      <td>24</td>\n",
       "      <td>116</td>\n",
       "    </tr>\n",
       "    <tr>\n",
       "      <th>6</th>\n",
       "      <td>25</td>\n",
       "      <td>121</td>\n",
       "    </tr>\n",
       "    <tr>\n",
       "      <th>7</th>\n",
       "      <td>27</td>\n",
       "      <td>119</td>\n",
       "    </tr>\n",
       "    <tr>\n",
       "      <th>8</th>\n",
       "      <td>25</td>\n",
       "      <td>118</td>\n",
       "    </tr>\n",
       "    <tr>\n",
       "      <th>9</th>\n",
       "      <td>25</td>\n",
       "      <td>124</td>\n",
       "    </tr>\n",
       "  </tbody>\n",
       "</table>\n",
       "</div>"
      ],
      "text/plain": [
       "   Zung Score  Systolic BP\n",
       "0          28          121\n",
       "1          22          123\n",
       "2          24          109\n",
       "3          20          120\n",
       "4          22          135\n",
       "5          24          116\n",
       "6          25          121\n",
       "7          27          119\n",
       "8          25          118\n",
       "9          25          124"
      ]
     },
     "execution_count": 125,
     "metadata": {},
     "output_type": "execute_result"
    }
   ],
   "source": [
    "systole.head(10)"
   ]
  },
  {
   "cell_type": "code",
   "execution_count": 126,
   "metadata": {},
   "outputs": [
    {
     "data": {
      "text/html": [
       "<div>\n",
       "<style scoped>\n",
       "    .dataframe tbody tr th:only-of-type {\n",
       "        vertical-align: middle;\n",
       "    }\n",
       "\n",
       "    .dataframe tbody tr th {\n",
       "        vertical-align: top;\n",
       "    }\n",
       "\n",
       "    .dataframe thead th {\n",
       "        text-align: right;\n",
       "    }\n",
       "</style>\n",
       "<table border=\"1\" class=\"dataframe\">\n",
       "  <thead>\n",
       "    <tr style=\"text-align: right;\">\n",
       "      <th></th>\n",
       "      <th>Zung Score</th>\n",
       "      <th>Diastolic BP</th>\n",
       "    </tr>\n",
       "  </thead>\n",
       "  <tbody>\n",
       "    <tr>\n",
       "      <th>0</th>\n",
       "      <td>28</td>\n",
       "      <td>73</td>\n",
       "    </tr>\n",
       "    <tr>\n",
       "      <th>1</th>\n",
       "      <td>22</td>\n",
       "      <td>75</td>\n",
       "    </tr>\n",
       "    <tr>\n",
       "      <th>2</th>\n",
       "      <td>24</td>\n",
       "      <td>72</td>\n",
       "    </tr>\n",
       "    <tr>\n",
       "      <th>3</th>\n",
       "      <td>20</td>\n",
       "      <td>70</td>\n",
       "    </tr>\n",
       "    <tr>\n",
       "      <th>4</th>\n",
       "      <td>22</td>\n",
       "      <td>75</td>\n",
       "    </tr>\n",
       "    <tr>\n",
       "      <th>5</th>\n",
       "      <td>24</td>\n",
       "      <td>70</td>\n",
       "    </tr>\n",
       "    <tr>\n",
       "      <th>6</th>\n",
       "      <td>25</td>\n",
       "      <td>79</td>\n",
       "    </tr>\n",
       "    <tr>\n",
       "      <th>7</th>\n",
       "      <td>27</td>\n",
       "      <td>81</td>\n",
       "    </tr>\n",
       "    <tr>\n",
       "      <th>8</th>\n",
       "      <td>25</td>\n",
       "      <td>77</td>\n",
       "    </tr>\n",
       "    <tr>\n",
       "      <th>9</th>\n",
       "      <td>25</td>\n",
       "      <td>68</td>\n",
       "    </tr>\n",
       "  </tbody>\n",
       "</table>\n",
       "</div>"
      ],
      "text/plain": [
       "   Zung Score  Diastolic BP\n",
       "0          28            73\n",
       "1          22            75\n",
       "2          24            72\n",
       "3          20            70\n",
       "4          22            75\n",
       "5          24            70\n",
       "6          25            79\n",
       "7          27            81\n",
       "8          25            77\n",
       "9          25            68"
      ]
     },
     "execution_count": 126,
     "metadata": {},
     "output_type": "execute_result"
    }
   ],
   "source": [
    "diastole.head(10)"
   ]
  },
  {
   "cell_type": "code",
   "execution_count": 127,
   "metadata": {},
   "outputs": [],
   "source": [
    "scoresSystole = systole[\"Zung Score\"]\n",
    "scoresDiastole = diastole[\"Zung Score\"]"
   ]
  },
  {
   "cell_type": "code",
   "execution_count": 128,
   "metadata": {},
   "outputs": [],
   "source": [
    "bpSystole = systole[\"Systolic BP\"]\n",
    "bpDiastole = diastole[\"Diastolic BP\"]"
   ]
  },
  {
   "cell_type": "code",
   "execution_count": 129,
   "metadata": {},
   "outputs": [],
   "source": [
    "def plotGraph(x, y, bpType):\n",
    "    plt.scatter(x, y, c='b', marker='o')\n",
    "    plt.xlabel('Zung Score', fontsize=16)\n",
    "    plt.ylabel(bpType + ' BP', fontsize=16)\n",
    "    plt.title('Zung Score vs ' + bpType + ' BP', fontsize=20)\n",
    "    plt.show()"
   ]
  },
  {
   "cell_type": "code",
   "execution_count": 130,
   "metadata": {},
   "outputs": [],
   "source": [
    "def plotOutlier(data, x, y, bpType, myEps):\n",
    "    bp_data = data.iloc[:, 0:2].values\n",
    "    model = DBSCAN(eps=myEps, min_samples=3).fit(bp_data)\n",
    "    colors = model.labels_\n",
    "    plt.scatter(x, y, c=colors, marker='o')\n",
    "    plt.xlabel('Zung Score', fontsize=16)\n",
    "    plt.ylabel(bpType + ' BP', fontsize=16)\n",
    "    plt.title('Zung Score vs ' + bpType +' BP', fontsize=20)\n",
    "    plt.show()"
   ]
  },
  {
   "cell_type": "code",
   "execution_count": 131,
   "metadata": {},
   "outputs": [],
   "source": [
    "def linRegVals(data):\n",
    "    X = data.iloc[:, 0].values.reshape(-1, 1)  # values converts it into a numpy array\n",
    "    Y = data.iloc[:, 1].values.reshape(-1, 1)  # -1 means that calculate the dimension of rows, but have 1 column\n",
    "    x_mean = np.mean(X)\n",
    "    y_mean = np.mean(Y)\n",
    "    n = np.size(X)\n",
    "    x_mean,y_mean\n",
    "\n",
    "    Sxy = np.sum(X*Y)- n*x_mean*y_mean\n",
    "    Sxx = np.sum(X*X)-n*x_mean*x_mean\n",
    "\n",
    "    b1 = Sxy/Sxx\n",
    "    b0 = y_mean-b1*x_mean\n",
    "    print('The slope is', b1)\n",
    "    print('The y intercept is', b0)"
   ]
  },
  {
   "cell_type": "code",
   "execution_count": 132,
   "metadata": {},
   "outputs": [],
   "source": [
    "def linearRegression(data, bpType):\n",
    "    X = data.iloc[:, 0].values.reshape(-1, 1)  # values converts it into a numpy array\n",
    "    Y = data.iloc[:, 1].values.reshape(-1, 1)  # -1 means that calculate the dimension of rows, but have 1 column\n",
    "    linear_regressor = LinearRegression()  # create object for the class\n",
    "    linear_regressor.fit(X, Y)  # perform linear regression\n",
    "    r2 = linear_regressor.score(X, Y)\n",
    "    r = math.sqrt(r2)\n",
    "    Y_pred = linear_regressor.predict(X)  # make predictions\n",
    "    plt.scatter(X, Y)\n",
    "    plt.plot(X, Y_pred, color='red')\n",
    "    plt.xlabel(\"Zung Score\")\n",
    "    plt.ylabel(bpType)\n",
    "    plt.show()\n",
    "    linRegVals(data)\n",
    "    print(\"R value is \" + str(r))"
   ]
  },
  {
   "cell_type": "code",
   "execution_count": 133,
   "metadata": {},
   "outputs": [
    {
     "data": {
      "image/png": "[encoded data removed]",
      "text/plain": [
       "<Figure size 432x288 with 1 Axes>"
      ]
     },
     "metadata": {
      "needs_background": "light"
     },
     "output_type": "display_data"
    },
    {
     "data": {
      "image/png": "[encoded data removed]",
      "text/plain": [
       "<Figure size 432x288 with 1 Axes>"
      ]
     },
     "metadata": {
      "needs_background": "light"
     },
     "output_type": "display_data"
    },
    {
     "name": "stdout",
     "output_type": "stream",
     "text": [
      "The slope is 0.008054931995258752\n",
      "The y intercept is 119.26369998679486\n",
      "R value is 0.005594838148499224\n"
     ]
    }
   ],
   "source": [
    "plotGraph(scoresSystole, bpSystole, 'Systolic')\n",
    "linearRegression(systole, \"Systolic BP\")"
   ]
  },
  {
   "cell_type": "code",
   "execution_count": 134,
   "metadata": {},
   "outputs": [
    {
     "data": {
      "image/png": "[encoded data removed]",
      "text/plain": [
       "<Figure size 432x288 with 1 Axes>"
      ]
     },
     "metadata": {
      "needs_background": "light"
     },
     "output_type": "display_data"
    },
    {
     "data": {
      "image/png": "[encoded data removed]",
      "text/plain": [
       "<Figure size 432x288 with 1 Axes>"
      ]
     },
     "metadata": {
      "needs_background": "light"
     },
     "output_type": "display_data"
    },
    {
     "name": "stdout",
     "output_type": "stream",
     "text": [
      "The slope is 0.41964875214578307\n",
      "The y intercept is 61.24653373828068\n",
      "R value is 0.31235721552638435\n"
     ]
    }
   ],
   "source": [
    "plotGraph(scoresDiastole, bpDiastole, 'Diastolic')\n",
    "linearRegression(diastole, \"Diastolic BP\")"
   ]
  },
  {
   "cell_type": "code",
   "execution_count": 135,
   "metadata": {},
   "outputs": [
    {
     "data": {
      "image/png": "[encoded data removed]",
      "text/plain": [
       "<Figure size 432x288 with 1 Axes>"
      ]
     },
     "metadata": {
      "needs_background": "light"
     },
     "output_type": "display_data"
    }
   ],
   "source": [
    "plotOutlier(systole, scoresSystole, bpSystole, 'Systolic', 6)"
   ]
  },
  {
   "cell_type": "code",
   "execution_count": 136,
   "metadata": {
    "scrolled": true
   },
   "outputs": [
    {
     "data": {
      "image/png": "[encoded data removed]",
      "text/plain": [
       "<Figure size 432x288 with 1 Axes>"
      ]
     },
     "metadata": {
      "needs_background": "light"
     },
     "output_type": "display_data"
    }
   ],
   "source": [
    "plotOutlier(diastole, scoresDiastole, bpDiastole, 'Diastolic', 5)"
   ]
  },
  {
   "cell_type": "code",
   "execution_count": 137,
   "metadata": {},
   "outputs": [
    {
     "data": {
      "image/png": "[encoded data removed]",
      "text/plain": [
       "<Figure size 432x288 with 1 Axes>"
      ]
     },
     "metadata": {
      "needs_background": "light"
     },
     "output_type": "display_data"
    }
   ],
   "source": [
    "systoleParsed = systole.loc[(systole['Systolic BP'] < 127) & (systole['Zung Score'] < 32.5)]\n",
    "#systoleParsed = (systole[systoleParsed])\n",
    "plotGraph(systoleParsed[\"Zung Score\"], systoleParsed['Systolic BP'], 'Systolic')"
   ]
  },
  {
   "cell_type": "code",
   "execution_count": 138,
   "metadata": {},
   "outputs": [
    {
     "data": {
      "image/png": "[encoded data removed]",
      "text/plain": [
       "<Figure size 432x288 with 1 Axes>"
      ]
     },
     "metadata": {
      "needs_background": "light"
     },
     "output_type": "display_data"
    }
   ],
   "source": [
    "diastoleParsed = diastole['Zung Score'] < 32.5\n",
    "diastoleParsed = (diastole[diastoleParsed])\n",
    "plotGraph(diastoleParsed[\"Zung Score\"], diastoleParsed['Diastolic BP'], 'Diastolic')"
   ]
  },
  {
   "cell_type": "code",
   "execution_count": 139,
   "metadata": {},
   "outputs": [
    {
     "name": "stdout",
     "output_type": "stream",
     "text": [
      "Systole with Regression\n"
     ]
    },
    {
     "data": {
      "image/png": "[encoded data removed]",
      "text/plain": [
       "<Figure size 432x288 with 1 Axes>"
      ]
     },
     "metadata": {
      "needs_background": "light"
     },
     "output_type": "display_data"
    },
    {
     "name": "stdout",
     "output_type": "stream",
     "text": [
      "The slope is 0.5625954198473457\n",
      "The y intercept is 104.42315521628454\n",
      "R value is 0.39211928908243227\n"
     ]
    }
   ],
   "source": [
    "print(\"Systole with Regression\")\n",
    "linearRegression(systoleParsed, \"Systolic BP\")"
   ]
  },
  {
   "cell_type": "code",
   "execution_count": 140,
   "metadata": {},
   "outputs": [
    {
     "name": "stdout",
     "output_type": "stream",
     "text": [
      "Diastole with Regression\n"
     ]
    },
    {
     "data": {
      "image/png": "[encoded data removed]",
      "text/plain": [
       "<Figure size 432x288 with 1 Axes>"
      ]
     },
     "metadata": {
      "needs_background": "light"
     },
     "output_type": "display_data"
    },
    {
     "name": "stdout",
     "output_type": "stream",
     "text": [
      "The slope is 0.8245686113393452\n",
      "The y intercept is 51.571898110107185\n",
      "R value is 0.4993079276278921\n"
     ]
    }
   ],
   "source": [
    "print(\"Diastole with Regression\")\n",
    "linearRegression(diastoleParsed, \"Diastolic BP\")"
   ]
  },
  {
   "cell_type": "code",
   "execution_count": 141,
   "metadata": {},
   "outputs": [],
   "source": [
    "molly = data[data['Name']=='Molly']\n",
    "andrew = data[data['Name']=='Andrew']\n",
    "josh = data[data['Name']=='Josh']\n",
    "jacob = data[data['Name']=='Jacob']\n",
    "nevin = data[data['Name']=='Nevin']"
   ]
  },
  {
   "cell_type": "code",
   "execution_count": 142,
   "metadata": {},
   "outputs": [],
   "source": [
    "def personalData(person):\n",
    "    personSystole = person[['Zung Score', 'Systolic BP']]\n",
    "    personDiastole = person[['Zung Score', 'Diastolic BP']]\n",
    "    linearRegression(personSystole, \"Systolic BP\")\n",
    "    linearRegression(personDiastole, \"Diastolic BP\")\n",
    "    plt.scatter(person['Timestamp'], person['Diastolic BP'])\n",
    "    plt.xlabel(\"Zung Score\")\n",
    "    plt.ylabel(\"Diastolic BP\")\n",
    "    plt.show()\n",
    "    plt.scatter(person['Timestamp'], person['Systolic BP'])\n",
    "    plt.xlabel(\"Zung Score\")\n",
    "    plt.ylabel(\"Systolic BP\")\n",
    "    plt.show()"
   ]
  },
  {
   "cell_type": "code",
   "execution_count": 143,
   "metadata": {},
   "outputs": [
    {
     "data": {
      "image/png": "[encoded data removed]",
      "text/plain": [
       "<Figure size 432x288 with 1 Axes>"
      ]
     },
     "metadata": {
      "needs_background": "light"
     },
     "output_type": "display_data"
    },
    {
     "name": "stdout",
     "output_type": "stream",
     "text": [
      "The slope is -0.7857142857143475\n",
      "The y intercept is 139.00000000000145\n",
      "R value is 0.24980652647688875\n"
     ]
    },
    {
     "data": {
      "image/png": "[encoded data removed]",
      "text/plain": [
       "<Figure size 432x288 with 1 Axes>"
      ]
     },
     "metadata": {
      "needs_background": "light"
     },
     "output_type": "display_data"
    },
    {
     "name": "stdout",
     "output_type": "stream",
     "text": [
      "The slope is 0.05357142857142835\n",
      "The y intercept is 71.25\n",
      "R value is 0.06482037235521461\n"
     ]
    },
    {
     "data": {
      "image/png": "[encoded data removed]",
      "text/plain": [
       "<Figure size 432x288 with 1 Axes>"
      ]
     },
     "metadata": {
      "needs_background": "light"
     },
     "output_type": "display_data"
    },
    {
     "data": {
      "image/png": "[encoded data removed]",
      "text/plain": [
       "<Figure size 432x288 with 1 Axes>"
      ]
     },
     "metadata": {
      "needs_background": "light"
     },
     "output_type": "display_data"
    }
   ],
   "source": [
    "personalData(andrew)"
   ]
  },
  {
   "cell_type": "code",
   "execution_count": 144,
   "metadata": {},
   "outputs": [],
   "source": [
    "diastoleParsed.to_excel(writerDia, index = False)\n",
    "writerDia.save()"
   ]
  },
  {
   "cell_type": "code",
   "execution_count": 145,
   "metadata": {},
   "outputs": [],
   "source": [
    "systoleParsed.to_excel(writerSys, index = False)\n",
    "writerSys.save()"
   ]
  },
  {
   "cell_type": "code",
   "execution_count": null,
   "metadata": {},
   "outputs": [],
   "source": []
  }
 ],
 "metadata": {
  "kernelspec": {
   "display_name": "Python 3",
   "language": "python",
   "name": "python3"
  },
  "language_info": {
   "codemirror_mode": {
    "name": "ipython",
    "version": 3
   },
   "file_extension": ".py",
   "mimetype": "text/x-python",
   "name": "python",
   "nbconvert_exporter": "python",
   "pygments_lexer": "ipython3",
   "version": "3.8.5"
  }
 },
 "nbformat": 4,
 "nbformat_minor": 4
}
